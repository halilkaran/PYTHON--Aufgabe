{
 "cells": [
  {
   "cell_type": "markdown",
   "metadata": {},
   "source": [
    "Question 1\n",
    "It takes 21 seconds to wash your hands and help prevent the spread of COVID-19.\n",
    "Create a function that takes the number of times a person washes their hands per day N and the number of months they follow this routine nM and calculates the duration in minutes and seconds that person spends washing their hands.\n",
    "Examples\n",
    "(8, 7) ➞ \"588 minutes and 0 seconds\"\n",
    "(0, 0) ➞ \"0 minutes and 0 seconds\"\n",
    "(7, 9) ➞ \"661 minutes and 30 seconds\"\n",
    "Notes\n",
    "Consider a month has 30 days.\n",
    "Wash your hands."
   ]
  },
  {
   "cell_type": "code",
   "execution_count": 2,
   "metadata": {},
   "outputs": [
    {
     "name": "stdout",
     "output_type": "stream",
     "text": [
      "661 minutes and 30 seconds\n"
     ]
    }
   ],
   "source": [
    "N = int(input(\"Günde kaç kez elini yıkarsın : \"))\n",
    "nM = int(input(\"Bu rutini kaç ay uyguladın : \"))\n",
    "\n",
    "süre = N * 21 * 30 * nM\n",
    "\n",
    "print(int(süre/60), \"minutes and\", int(süre % 60), \"seconds\" )"
   ]
  },
  {
   "cell_type": "markdown",
   "metadata": {},
   "source": [
    "Question 2\n",
    "Write a function that finds the largest even number in a list. Return -1 if not found. The use of built-in functions max() and sorted() are prohibited.\n",
    "Examples\n",
    "[3, 7, 2, 1, 7, 9, 10, 13] ➞ 10\n",
    "[1, 3, 5, 7] ➞ -1\n",
    "[0, 19, 18973623] ➞ 0\n",
    "Notes\n",
    "Consider using the modulo operator %"
   ]
  },
  {
   "cell_type": "code",
   "execution_count": 102,
   "metadata": {},
   "outputs": [
    {
     "name": "stdout",
     "output_type": "stream",
     "text": [
      "En büyük çift sayi = 10\n"
     ]
    }
   ],
   "source": [
    "lst = []\n",
    "sayi = int(input('Kaç Sayı Girilecek: '))\n",
    "for n in range(sayi):\n",
    "    sayi = int(input('Sayıyı Gir: '))\n",
    "    if sayi % 2 == 0 :\n",
    "        lst.append(sayi)\n",
    "        \n",
    "if len(lst) != 0 :\n",
    "    print(\"En büyük çift sayi =\", max(lst))\n",
    "else : \n",
    "    print(-1)"
   ]
  },
  {
   "cell_type": "code",
   "execution_count": 65,
   "metadata": {},
   "outputs": [
    {
     "name": "stdout",
     "output_type": "stream",
     "text": [
      "['6', '5', '4', '8', '5', '2', '1', '5', '4', '6', '3', '2'] -> 8\n"
     ]
    }
   ],
   "source": [
    "# Akuklu\n",
    "def find_max_large_even(l):\n",
    "    maximum  = -1\n",
    "    for i in l:\n",
    "        if int(i) > maximum and int(i) % 2 == 0:\n",
    "            maximum = int(i)\n",
    "    return maximum\n",
    "    \n",
    "num_list = list(input(\"Bir sayi listesi gir(' ') :\").split())\n",
    "print(num_list,\"->\",find_max_large_even(num_list))"
   ]
  },
  {
   "cell_type": "markdown",
   "metadata": {},
   "source": [
    "Question 3\n",
    "Create a function that determines whether a number is Oddish or Evenish. A number is Oddish if the sum of all of its digits is odd, and a number is Evenish if the sum of all of its digits is even. If a number is Oddish, return \"Oddish\". Otherwise, return \"Evenish\".\n",
    "For example, (121) should return \"Evenish\", since 1 + 2 + 1 = 4. (41) should return \"Oddish\", since 4 + 1 = 5.\n",
    "Examples\n",
    "(43) ➞ \"Oddish\"\n",
    "4 + 3 = 7\n",
    "7 % 2 = 1\n",
    "(373) ➞ \"Oddish\"\n",
    "3 + 7 + 3 = 13\n",
    "13 % 2 = 1\n",
    "(4433) ➞ \"Evenish\"\n",
    "4 + 4 + 3 + 3 = 14\n",
    "14 % 2 = 0"
   ]
  },
  {
   "cell_type": "code",
   "execution_count": 4,
   "metadata": {},
   "outputs": [
    {
     "name": "stdout",
     "output_type": "stream",
     "text": [
      "12 is Oddish\n"
     ]
    }
   ],
   "source": [
    "sayi = input(\"bir sayi gir : \")\n",
    "toplam = 0\n",
    "for i in sayi:\n",
    "    toplam += int(i)\n",
    "if toplam % 2 == 0 :\n",
    "    print(sayi , \"is Evenish\")\n",
    "else : \n",
    "     print(sayi , \"is Oddish\")\n"
   ]
  },
  {
   "cell_type": "markdown",
   "metadata": {},
   "source": [
    "# 1\n",
    "# 2 2\n",
    "# 3 3 3\n",
    "# 4 4 4 4 4\n",
    "# 5 5 5 5 5 5"
   ]
  },
  {
   "cell_type": "code",
   "execution_count": 12,
   "metadata": {},
   "outputs": [
    {
     "name": "stdout",
     "output_type": "stream",
     "text": [
      "1\n",
      "2 2\n",
      "3 3 3\n",
      "4 4 4 4\n",
      "5 5 5 5 5\n",
      "6 6 6 6 6 6\n"
     ]
    }
   ],
   "source": [
    "sayi = int(input(\"bir sayı gir: \"))\n",
    "lstsayi = []\n",
    "i = 0\n",
    "for i in range(1,sayi+1) :\n",
    "    print(*i * str(i))"
   ]
  },
  {
   "cell_type": "code",
   "execution_count": 13,
   "metadata": {},
   "outputs": [
    {
     "name": "stdout",
     "output_type": "stream",
     "text": [
      "1\n",
      "2 2\n",
      "3 3 3\n",
      "4 4 4 4\n",
      "5 5 5 5 5\n",
      "6 6 6 6 6 6\n"
     ]
    }
   ],
   "source": [
    "sayi = int(input(\"bir sayı gir: \"))\n",
    "lstsayi = []\n",
    "i = 0\n",
    "for i in range(0,sayi):\n",
    "    lstsayi.append(str(i+1))\n",
    "\n",
    "for i in range(0,sayi):\n",
    "    print(*lstsayi[i]*(i+1))"
   ]
  },
  {
   "cell_type": "markdown",
   "metadata": {},
   "source": [
    "Question 5\n",
    "Fruit salads are served best when the fruits are sliced and diced into small chunks!\n",
    "For this challenge, slice each fruit in half and sort the chunks alphabetically. This recipe tastes best when the chunks are joined together to make a string.\n",
    "Worked Example\n",
    "[\"apple\", \"pear\", \"grapes\"] ➞ \"apargrapepesple\"\n",
    "Chunks: [\"ap\", \"ple\", \"pe\", \"ar\", \"gra\", \"pes\"]\n",
    "Sorted chunks: [\"ap\", \"ar\", \"gra\", \"pe\", \"pes\", \"ple\"]\n",
    "Final string: \"apargrapepesple\"\n",
    "Examples\n",
    "[\"apple\", \"pear\", \"grapes\"] ➞ \"apargrapepesple\"\n",
    "[\"raspberries\", \"mango\"] ➞ \"erriesmangoraspb\"\n",
    "[\"banana\"] ➞ \"anaban\"\n",
    "Notes\n",
    "If a fruit has an odd number of letters, make the right side larger than the left.\n",
    "For example: \"apple\" will be sliced into \"ap\" and \"ple\".\n",
    "All fruits will be given in lowercase."
   ]
  },
  {
   "cell_type": "markdown",
   "metadata": {},
   "source": [
    "Question 6\n",
    "Given a positive integer N, The task is to write a Python program to check if the number is prime or not.\n",
    "Definition:\n",
    "A prime number is a natural number greater than 1 that has no positive divisors other than 1 and itself.\n",
    "The first few prime numbers are {2, 3, 5, 7, 11, ….}."
   ]
  },
  {
   "cell_type": "code",
   "execution_count": 22,
   "metadata": {},
   "outputs": [
    {
     "name": "stdout",
     "output_type": "stream",
     "text": [
      "2 : Asal sayıdır.\n"
     ]
    }
   ],
   "source": [
    "# Question 6\n",
    "\n",
    "N = int(input(\"Bir tamsayı gir : \"))\n",
    "if N > 1:\n",
    "    for i in range(2, int(N/2)+1) : \n",
    "        if N % 2 == 0 :\n",
    "            print(N , \": Asal sayı değildir.\")\n",
    "            break\n",
    "    else :\n",
    "        print(N , \": Asal sayıdır.\")\n",
    "else :\n",
    "    print(\"Asal sayı değildir.\")\n"
   ]
  },
  {
   "cell_type": "markdown",
   "metadata": {},
   "source": [
    "Question 7\n",
    "Create a function that takes a word and extends all vowels by a number num.\n",
    "Examples\n",
    "\"Hello\", 5 ➞ \"Heeeeeelloooooo\"\n",
    "\"Edabit\", 3 ➞ \"EEEEdaaaabiiiit\"\n",
    "\"Extend\", 0 ➞ \"Extend\""
   ]
  },
  {
   "cell_type": "code",
   "execution_count": 28,
   "metadata": {},
   "outputs": [
    {
     "name": "stdout",
     "output_type": "stream",
     "text": [
      "haaaalloooo\n"
     ]
    }
   ],
   "source": [
    "# Question 7\n",
    "text = input(\"Bir kelime yazın : \")\n",
    "num = int(input(\"Bir sayı gir : \"))\n",
    "vowels = (\"aeıioöuü\")\n",
    "output = []\n",
    "liste1 = list(text)\n",
    "for i in range(0,len(liste1)):\n",
    "    if liste1[i] in vowels:\n",
    "        a = liste1[i]*num\n",
    "        output.append(a)\n",
    "    else :\n",
    "        output.append(liste1[i])\n",
    "print(\"\".join(output))"
   ]
  },
  {
   "cell_type": "code",
   "execution_count": 5,
   "metadata": {},
   "outputs": [
    {
     "name": "stdout",
     "output_type": "stream",
     "text": [
      "Let's play the guessing game!\n",
      "Little higher\n",
      "Little higher\n",
      "Little higher\n",
      "Little higher\n",
      "Little higher\n",
      "Little lower\n",
      "Little lower\n",
      "Little lower\n",
      "Little higher\n",
      "Are you a MINDREADER!!!\n"
     ]
    }
   ],
   "source": [
    "answer = 44\n",
    "\n",
    "question = 'What number am I thinking of?  '\n",
    "print (\"Let's play the guessing game!\")\n",
    "\n",
    "while True:\n",
    "    guess = int(input(question))\n",
    "\n",
    "    if guess < answer:\n",
    "        print('Little higher')\n",
    "    elif guess > answer:\n",
    "        print('Little lower')\n",
    "    else:  \n",
    "        print('Are you a MINDREADER!!!')\n",
    "        break"
   ]
  },
  {
   "cell_type": "code",
   "execution_count": 6,
   "metadata": {},
   "outputs": [
    {
     "name": "stdout",
     "output_type": "stream",
     "text": [
      "n1\n",
      "n2\n"
     ]
    }
   ],
   "source": [
    "for i in {'n1' : 'one', 'n2' : 'two'} : print(i)"
   ]
  },
  {
   "cell_type": "code",
   "execution_count": 23,
   "metadata": {},
   "outputs": [
    {
     "name": "stdout",
     "output_type": "stream",
     "text": [
      "8x0 =  0\n",
      "8x1 =  8\n",
      "8x2 =  16\n",
      "8x3 =  24\n",
      "8x4 =  32\n",
      "8x5 =  40\n",
      "8x6 =  48\n",
      "8x7 =  56\n",
      "8x8 =  64\n",
      "8x9 =  72\n",
      "8x10 =  80\n"
     ]
    }
   ],
   "source": [
    "n = int(input('enter a number between 1-10'))\n",
    "\n",
    "for i in range(0,11):\n",
    "    print('{}x{} = '.format(n, i), n*i)"
   ]
  },
  {
   "cell_type": "code",
   "execution_count": 8,
   "metadata": {},
   "outputs": [
    {
     "name": "stdout",
     "output_type": "stream",
     "text": [
      "one : 1\n",
      "two : 2\n",
      "three : 3\n",
      "four : 4\n",
      "five : 5\n"
     ]
    }
   ],
   "source": [
    "text = ['one','two','three','four','five']\n",
    "numbers = [1, 2, 3, 4, 5]\n",
    "for x, y in zip(text, numbers):\n",
    "    print(x, ':', y)"
   ]
  }
 ],
 "metadata": {
  "interpreter": {
   "hash": "102296e92056703233172f32d1443698de791a2ed6ee02edd4a1639040ea0cb4"
  },
  "kernelspec": {
   "display_name": "Python 3.10.0 64-bit",
   "language": "python",
   "name": "python3"
  },
  "language_info": {
   "codemirror_mode": {
    "name": "ipython",
    "version": 3
   },
   "file_extension": ".py",
   "mimetype": "text/x-python",
   "name": "python",
   "nbconvert_exporter": "python",
   "pygments_lexer": "ipython3",
   "version": "3.10.0"
  },
  "orig_nbformat": 4
 },
 "nbformat": 4,
 "nbformat_minor": 2
}
