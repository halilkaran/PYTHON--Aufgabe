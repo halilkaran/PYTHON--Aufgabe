{
 "cells": [
  {
   "cell_type": "markdown",
   "metadata": {},
   "source": [
    "\n",
    "Let's write a program that receives a number from the user and a base value\n",
    " from the user and prints the value of the entered number on the screen.\n",
    "\n",
    "Input - 1 :\n",
    "\n",
    "Enter number : 127\n",
    "\n",
    "Enter the base value : 2\n",
    "\n",
    "Output - 1 :\n",
    "\n",
    "Your result : 1111111\n",
    "\n",
    "Input - 2 :\n",
    "\n",
    "Enter number : 127\n",
    "\n",
    "Enter the base value: 5\n",
    "\n",
    "Output - 2 :\n",
    "\n",
    "Your result : 1002 \n"
   ]
  },
  {
   "cell_type": "code",
   "execution_count": 45,
   "metadata": {},
   "outputs": [
    {
     "name": "stdout",
     "output_type": "stream",
     "text": [
      "9c4\n"
     ]
    }
   ],
   "source": [
    "zahl = int(input(\"bitte ihre Zahl eingegeben\"))\n",
    "basevalue = int(input(\"bitte ihre base value eingegeben\"))\n",
    "list1 = []\n",
    "kalan = zahl\n",
    "while kalan > basevalue:\n",
    "    list1.append(str(kalan % basevalue))\n",
    "    if kalan // basevalue > basevalue:\n",
    "        kalan = kalan // basevalue\n",
    "    else:\n",
    "        list1.append(str(kalan//basevalue))\n",
    "        break\n",
    "list1.reverse()\n",
    "alt = str.maketrans(\"0123456789\", \"₀₁₂₃₄₅₆₇₈₉\")\n",
    "if basevalue <16:\n",
    "    print(\"{} = ({}){} \".format(zahl, \"\".join(list1), str(basevalue).translate(alt)))\n",
    "else:\n",
    "    hexa = list(hex(zahl))\n",
    "    print(\"\".join(hexa[2:]))\n"
   ]
  },
  {
   "cell_type": "code",
   "execution_count": null,
   "metadata": {},
   "outputs": [],
   "source": []
  }
 ],
 "metadata": {
  "interpreter": {
   "hash": "a568b988ef59356f541e1651d71651afaaa30954598b2be60c6c7b4eea9fbfac"
  },
  "kernelspec": {
   "display_name": "Python 3.10.0 64-bit",
   "language": "python",
   "name": "python3"
  },
  "language_info": {
   "codemirror_mode": {
    "name": "ipython",
    "version": 3
   },
   "file_extension": ".py",
   "mimetype": "text/x-python",
   "name": "python",
   "nbconvert_exporter": "python",
   "pygments_lexer": "ipython3",
   "version": "3.10.0"
  },
  "orig_nbformat": 4
 },
 "nbformat": 4,
 "nbformat_minor": 2
}
