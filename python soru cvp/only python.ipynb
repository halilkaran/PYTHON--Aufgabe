{
 "cells": [
  {
   "cell_type": "markdown",
   "metadata": {},
   "source": [
    "A number is said to be Harshad if it's exactly divisible by the sum of its digits. Create a function that determines whether a number is a Harshad or not.\n",
    "\n",
    "is_harshad(75) ➞ False\n",
    "# 7 + 5 = 12\n",
    "# 75 is not exactly divisible by 12\n",
    "\n",
    "is_harshad(171) ➞ True\n",
    "# 1 + 7 + 1 = 9\n",
    "# 9 exactly divides 171\n",
    "\n",
    "is_harshad(481) ➞ True\n",
    "\n",
    "is_harshad(89) ➞ False\n",
    "\n",
    "is_harshad(516) ➞ True\n",
    "\n",
    "is_harshad(200) ➞ True"
   ]
  },
  {
   "cell_type": "code",
   "execution_count": 4,
   "metadata": {},
   "outputs": [
    {
     "name": "stdout",
     "output_type": "stream",
     "text": [
      "False\n"
     ]
    }
   ],
   "source": [
    "sayi = input(\"give me a number\")\n",
    "sayi1 =int(sayi)                    # Sayiyi kaybetmemk icin atadim\n",
    "sum=0                               \n",
    "for i in range(0,len(sayi)):            # kac basamakli oldugunu bilmedigim icin for u okadar döndürdüm her basamagi toplama\n",
    "    sum += int(sayi[i])\n",
    "if sayi1 % sum == 0:                    # burda da tam bol kontrolu\n",
    "    print(\"True\")\n",
    "else: \n",
    "    print(\"False\")"
   ]
  },
  {
   "cell_type": "code",
   "execution_count": null,
   "metadata": {},
   "outputs": [],
   "source": [
    "sayi = input(\"give me a number\")\n",
    "sayi1 = int(sayi)                    \n",
    "sum = 0\n",
    "for i in range(0, len(sayi)):\n",
    "    sum += int(sayi[i])\n",
    "if sayi1 % sum == 0:                  \n",
    "    print(\"True\")\n",
    "else:\n",
    "    print(\"False\")\n"
   ]
  },
  {
   "cell_type": "markdown",
   "metadata": {},
   "source": [
    "Create a function that takes an integer n and returns the factorial of factorials. \n",
    "\n",
    "See below examples for a better understanding:\n",
    "\n",
    "fact_of_fact(4) ➞ 288\n",
    "# 4! * 3! * 2! * 1! = 288\n",
    "\n",
    "fact_of_fact(5) ➞ 34560\n",
    "\n",
    "fact_of_fact(6) ➞ 24883200"
   ]
  },
  {
   "cell_type": "code",
   "execution_count": 122,
   "metadata": {},
   "outputs": [
    {
     "name": "stdout",
     "output_type": "stream",
     "text": [
      "[]\n",
      "fact of fact0 ==> 1\n"
     ]
    }
   ],
   "source": [
    "facto = int(input(\"give me fac. number\"))\n",
    "list1=[]\n",
    "while facto>0:                              # burda her bir faktoriyeli ayri hesaplayip listeye atadim\n",
    "    for i in range(1, (facto+1)):\n",
    "         sum = sum * i\n",
    "    list1.append(sum)\n",
    "    facto -= 1                                  #  burda kullanicinin verdigi sayidan geriye dogru gitmek icin\n",
    "    sum=1 \n",
    "summe=1\n",
    "print(list1)\n",
    "for i in range(0, len(list1)):              # burda her faktoriyeli birbiriyle topladim\n",
    "    summe= summe * list1[i]\n",
    "print(\"fact of fact{} ==> {}\".format(facto, summe))\n"
   ]
  },
  {
   "cell_type": "markdown",
   "metadata": {},
   "source": [
    "Given a list of words in the singular form, return a set of those words in the plural form if they appear more than once in the list.\n",
    "\n",
    "pluralize([\"cow\", \"pig\", \"cow\", \"cow\"]) ➞ { \"cows\", \"pig\" }\n",
    "\n",
    "pluralize([\"table\", \"table\", \"table\"]) ➞ { \"tables\" }\n",
    "\n",
    "pluralize([\"chair\", \"pencil\", \"arm\"]) ➞ { \"chair\", \"pencil\", \"arm\" }"
   ]
  },
  {
   "cell_type": "code",
   "execution_count": 102,
   "metadata": {},
   "outputs": [
    {
     "ename": "AttributeError",
     "evalue": "'list' object has no attribute 'intersection'",
     "output_type": "error",
     "traceback": [
      "\u001b[1;31m---------------------------------------------------------------------------\u001b[0m",
      "\u001b[1;31mAttributeError\u001b[0m                            Traceback (most recent call last)",
      "\u001b[1;32m~\\AppData\\Local\\Temp/ipykernel_25032/2860790263.py\u001b[0m in \u001b[0;36m<module>\u001b[1;34m\u001b[0m\n\u001b[0;32m      2\u001b[0m \u001b[0mliste1\u001b[0m \u001b[1;33m=\u001b[0m \u001b[1;33m[\u001b[0m\u001b[1;33m]\u001b[0m\u001b[1;33m\u001b[0m\u001b[1;33m\u001b[0m\u001b[0m\n\u001b[0;32m      3\u001b[0m \u001b[1;32mfor\u001b[0m \u001b[0mi\u001b[0m \u001b[1;32min\u001b[0m \u001b[0mrange\u001b[0m\u001b[1;33m(\u001b[0m\u001b[1;36m0\u001b[0m\u001b[1;33m,\u001b[0m \u001b[0mlen\u001b[0m\u001b[1;33m(\u001b[0m\u001b[0mliste\u001b[0m\u001b[1;33m)\u001b[0m\u001b[1;33m)\u001b[0m\u001b[1;33m:\u001b[0m\u001b[1;33m\u001b[0m\u001b[1;33m\u001b[0m\u001b[0m\n\u001b[1;32m----> 4\u001b[1;33m         \u001b[1;32mif\u001b[0m \u001b[0mliste1\u001b[0m\u001b[1;33m.\u001b[0m\u001b[0mintersection\u001b[0m\u001b[1;33m(\u001b[0m\u001b[0mliste\u001b[0m\u001b[1;33m[\u001b[0m\u001b[0mi\u001b[0m\u001b[1;33m]\u001b[0m\u001b[1;33m)\u001b[0m\u001b[1;33m:\u001b[0m\u001b[1;33m\u001b[0m\u001b[1;33m\u001b[0m\u001b[0m\n\u001b[0m\u001b[0;32m      5\u001b[0m             \u001b[0mliste1\u001b[0m\u001b[1;33m.\u001b[0m\u001b[0mappend\u001b[0m\u001b[1;33m(\u001b[0m\u001b[0mliste\u001b[0m\u001b[1;33m[\u001b[0m\u001b[0mi\u001b[0m\u001b[1;33m]\u001b[0m\u001b[1;33m.\u001b[0m\u001b[0mstrip\u001b[0m\u001b[1;33m(\u001b[0m\u001b[1;33m)\u001b[0m\u001b[1;33m)\u001b[0m\u001b[1;33m\u001b[0m\u001b[1;33m\u001b[0m\u001b[0m\n\u001b[0;32m      6\u001b[0m \u001b[0mliste2\u001b[0m\u001b[1;33m=\u001b[0m\u001b[0mset\u001b[0m\u001b[1;33m(\u001b[0m\u001b[0mliste1\u001b[0m\u001b[1;33m)\u001b[0m\u001b[1;33m\u001b[0m\u001b[1;33m\u001b[0m\u001b[0m\n",
      "\u001b[1;31mAttributeError\u001b[0m: 'list' object has no attribute 'intersection'"
     ]
    }
   ],
   "source": [
    "liste = input(\" give me a list with , \").split(\",\")\n",
    "liste1 = []\n",
    "for i in range(0, len(liste)):\n",
    "        if liste1.intersection(liste[i]):\n",
    "            liste1.append(liste[i].strip())\n",
    "liste2=set(liste1)\n",
    "print(\"{} ==> {} \".format(liste, liste2))\n"
   ]
  },
  {
   "cell_type": "code",
   "execution_count": 120,
   "metadata": {},
   "outputs": [
    {
     "data": {
      "text/plain": [
       "['ere',\n",
       " 'ere',\n",
       " 'ere',\n",
       " 'teres',\n",
       " ' tere',\n",
       " ' tere',\n",
       " ' ere',\n",
       " 'eres',\n",
       " ' ere',\n",
       " ' er',\n",
       " ' er',\n",
       " 'ers']"
      ]
     },
     "execution_count": 120,
     "metadata": {},
     "output_type": "execute_result"
    }
   ],
   "source": [
    "liste = \"ere, tere, ere, er\"\n",
    "liste1 = liste.split(\",\")\n",
    "liste3=[]\n",
    "for i in  range(0,len(liste1)):\n",
    "    for x in range(1, len(liste1)):\n",
    "        if liste1[i]==liste1[x]:\n",
    "            liste2=liste1[i].split()\n",
    "            liste2.append(\"s\")\n",
    "            liste2= \"\".join(liste2)\n",
    "            liste3.append(liste2)\n",
    "        else:\n",
    "            liste3.append(liste1[i])\n",
    "\n",
    "liste3\n",
    "\n"
   ]
  },
  {
   "cell_type": "code",
   "execution_count": 22,
   "metadata": {},
   "outputs": [
    {
     "name": "stdout",
     "output_type": "stream",
     "text": [
      "['ere', 'er', 'ere', 'er', 'ere', 'eeee'] ==>> []\n"
     ]
    }
   ],
   "source": [
    "### :::::::::::::::::::::::::::::::::DOGRU COZUM ::::::::::::::::::::::::::::\n",
    "\n",
    "\n",
    "\n",
    "liste = input(\" give me a list with , \")\n",
    "liste1 = liste.split(\",\")\n",
    "for i in range(0, len(liste1)):\n",
    "    liste1[i] = liste1[i].strip()\n",
    "\n",
    "liste2 = []\n",
    "if liste1:\n",
    "    for item1 in liste1:\n",
    "        if item1 in liste2:\n",
    "            liste2.remove(item1)\n",
    "            liste3 = list(item1)\n",
    "            liste3.append(\"s\")\n",
    "            liste3 = \"\".join(liste3)\n",
    "            if liste3 not in liste2:\n",
    "                liste2.append(liste3)\n",
    "            elif item1  not in liste2:\n",
    "                if liste3 not in liste2:\n",
    "                    liste2.append(item1)\n",
    "            \n",
    "        \n",
    "            \n",
    "            \n",
    "liste3= set(liste2)\n",
    "print(\"{} ==>> {}\".format(liste1,liste2))\n"
   ]
  },
  {
   "cell_type": "code",
   "execution_count": 16,
   "metadata": {},
   "outputs": [
    {
     "data": {
      "text/plain": [
       "['ere', 'er', 'er', 'er', '']"
      ]
     },
     "execution_count": 16,
     "metadata": {},
     "output_type": "execute_result"
    }
   ],
   "source": [
    "liste = input(\" give me a list with , \")\n",
    "liste1 = liste.split(\",\")\n",
    "for i in range(0, len(liste1)):\n",
    "    liste1[i]=liste1[i].strip()\n",
    "\n",
    "liste1"
   ]
  },
  {
   "cell_type": "markdown",
   "metadata": {},
   "source": [
    "Create a function that takes a number num and returns each place value in the number.\n",
    "\n",
    "num_split(39) ➞ [30, 9]\n",
    "\n",
    "num_split(-434) ➞ [-400, -30, -4]\n",
    "\n",
    "num_split(100) ➞ [100, 0, 0]"
   ]
  },
  {
   "cell_type": "code",
   "execution_count": 86,
   "metadata": {},
   "outputs": [
    {
     "name": "stdout",
     "output_type": "stream",
     "text": [
      "[1, 2, 3]\n",
      "10\n",
      "10\n",
      "100\n"
     ]
    }
   ],
   "source": [
    "numb = input(\"give me a number\")\n",
    "numb = list(map(int, numb))\n",
    "print(numb)\n",
    "numb1 = []\n",
    "lenlist = len(numb)\n",
    "top=1\n",
    "for x in range(0, lenlist):\n",
    "    for i in range(0, x):\n",
    "        top *=10 \n",
    "        print(top)\n",
    "    top=1\n",
    "\n",
    "\n",
    "# for x in range(0, (lenlist)):\n",
    "#     for  i in range(x, (lenlist-1)):\n",
    "#         on =on*10\n",
    "        \n",
    "#     numb1.append(int(numb[i])* on)\n",
    "    \n",
    "\n",
    "# numb1\n"
   ]
  },
  {
   "cell_type": "code",
   "execution_count": 71,
   "metadata": {},
   "outputs": [
    {
     "data": {
      "text/plain": [
       "[1, 2, 3]"
      ]
     },
     "execution_count": 71,
     "metadata": {},
     "output_type": "execute_result"
    }
   ],
   "source": [
    "numb = list(input(\"give me a number\"))\n",
    "map_object = list(map(int, numb))\n",
    "map_object\n"
   ]
  },
  {
   "cell_type": "code",
   "execution_count": 88,
   "metadata": {},
   "outputs": [
    {
     "name": "stdout",
     "output_type": "stream",
     "text": [
      "[1, 70, 100]\n"
     ]
    }
   ],
   "source": [
    "num = int(input(\"Enter Number: \"))\n",
    "c = 1\n",
    "pos_nums = []\n",
    "while num != 0:\n",
    "    z = num % 10\n",
    "    pos_nums.append(z * c)\n",
    "    num = num // 10\n",
    "    c = c*10\n",
    "print(pos_nums)\n"
   ]
  },
  {
   "cell_type": "code",
   "execution_count": 100,
   "metadata": {},
   "outputs": [
    {
     "name": "stdout",
     "output_type": "stream",
     "text": [
      "[100, 20, 3]\n"
     ]
    }
   ],
   "source": [
    "numb = input(\"give me a number\")\n",
    "ondalik=1\n",
    "numb1= list(numb)\n",
    "numb=int(numb)\n",
    "liste = []\n",
    "for i in range(0, len(numb1)) :\n",
    "    mod = numb%10\n",
    "    liste.append(mod*ondalik)\n",
    "    numb= numb//10\n",
    "    ondalik*=10\n",
    "liste.reverse()\n",
    "print(liste)\n"
   ]
  },
  {
   "cell_type": "code",
   "execution_count": null,
   "metadata": {},
   "outputs": [],
   "source": [
    "c 1\n",
    "z 1\n",
    "[1]\n",
    "num 17\n",
    "c 10\n",
    "z 7\n",
    "[70]\n",
    "num 1\n",
    "c 100\n",
    "z 100\n",
    "[100]\n",
    "num 0 "
   ]
  },
  {
   "cell_type": "code",
   "execution_count": 2,
   "metadata": {},
   "outputs": [
    {
     "name": "stdout",
     "output_type": "stream",
     "text": [
      "4\n",
      "499\n"
     ]
    }
   ],
   "source": [
    "test = input('Cümleyi giriniz  :')\n",
    "num = [int(s) for s in test.split() if s.isdigit()]\n",
    "for i in num:\n",
    "    print(i)\n",
    "\n"
   ]
  },
  {
   "cell_type": "code",
   "execution_count": 4,
   "metadata": {},
   "outputs": [
    {
     "name": "stdout",
     "output_type": "stream",
     "text": [
      "[9000, 800, 70, 7]\n"
     ]
    }
   ],
   "source": [
    "###:::::::::::::::::SADECE PZTF VERIYOR::::::::::::::::::::::::::::::::::\n",
    "numb = input(\"give me a number\")\n",
    "ondalik = 1\n",
    "numb1 = list(numb)\n",
    "numb = int(numb)\n",
    "liste = []\n",
    "for i in range(0, len(numb1)):\n",
    "    mod = numb % 10\n",
    "    liste.append(mod*ondalik)\n",
    "    numb = numb//10\n",
    "    ondalik *= 10\n",
    "liste.reverse()\n",
    "print(liste)\n"
   ]
  },
  {
   "cell_type": "code",
   "execution_count": 15,
   "metadata": {},
   "outputs": [
    {
     "name": "stdout",
     "output_type": "stream",
     "text": [
      "senin verdigin -123\n",
      " sana döndürdugum [-100, -20, -3]\n"
     ]
    }
   ],
   "source": [
    "#### :::::::::::::::::::::::::DOGRU ::::::::::::::::\n",
    "numb = input(\"give me a number\")\n",
    "ondalik = 1\n",
    "numb1 = list(numb)\n",
    "numb = int(numb)\n",
    "print(f\"senin verdigin {numb}\")\n",
    "liste = []\n",
    "\n",
    "if numb > 0:\n",
    "    for i in range(0, len(numb1)):\n",
    "        mod = numb % 10\n",
    "        liste.append(mod*ondalik)\n",
    "        numb = numb//10\n",
    "        ondalik *= 10\n",
    "elif numb < 0:\n",
    "    numb=abs(numb)\n",
    "    for i in range(1, len(numb1)):\n",
    "                \n",
    "                mod = numb % 10\n",
    "                liste.append(mod*ondalik*(-1))\n",
    "                numb = numb//10\n",
    "                ondalik *= 10\n",
    "\n",
    "\n",
    "elif numb == 0:\n",
    "    print( \" give me number\")\n",
    "\n",
    "liste.reverse()\n",
    "print(f\" sana döndürdugum {liste}\")\n"
   ]
  },
  {
   "cell_type": "code",
   "execution_count": null,
   "metadata": {},
   "outputs": [],
   "source": []
  },
  {
   "cell_type": "code",
   "execution_count": null,
   "metadata": {},
   "outputs": [],
   "source": []
  }
 ],
 "metadata": {
  "interpreter": {
   "hash": "a568b988ef59356f541e1651d71651afaaa30954598b2be60c6c7b4eea9fbfac"
  },
  "kernelspec": {
   "display_name": "Python 3.10.0 64-bit",
   "language": "python",
   "name": "python3"
  },
  "language_info": {
   "codemirror_mode": {
    "name": "ipython",
    "version": 3
   },
   "file_extension": ".py",
   "mimetype": "text/x-python",
   "name": "python",
   "nbconvert_exporter": "python",
   "pygments_lexer": "ipython3",
   "version": "3.10.0"
  },
  "orig_nbformat": 4
 },
 "nbformat": 4,
 "nbformat_minor": 2
}
