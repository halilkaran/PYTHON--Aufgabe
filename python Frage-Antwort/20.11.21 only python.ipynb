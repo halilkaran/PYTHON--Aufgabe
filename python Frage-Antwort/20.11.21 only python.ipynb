{
 "cells": [
  {
   "cell_type": "markdown",
   "metadata": {},
   "source": [
    "ÖDEV\n",
    "\n",
    "Task : Let's say you left a message before that prints a password you need. \n",
    "\n",
    "To see the password you left, you need to enter your name and the program should recognize you.Write a program that \n",
    "\n",
    "\n",
    "Takes the first name from the user and compares it to yours,\n",
    "\n",
    "\n",
    "Then if the name the user entered is the same as yours, print out such as : \"Hello, Joseph! The password is : @12\",\n",
    "\n",
    "\n",
    "If the name the user entered is not the same as yours, print out such as : \"Hello, Amina! See you later.\""
   ]
  },
  {
   "cell_type": "code",
   "execution_count": 3,
   "metadata": {},
   "outputs": [
    {
     "name": "stdout",
     "output_type": "stream",
     "text": [
      "Hello, joseph! The password is : @12\n"
     ]
    }
   ],
   "source": [
    "database = {\n",
    "    \"joseph\" : \"@12\",\n",
    "    \"Ali\" : \"a12En\"\n",
    "}\n",
    "while True:\n",
    "    name = input(\"bitte ihre name eingegeben\").lower()\n",
    "    passw = input(\"bitte ihre passw eingegeben\")\n",
    "    if database[name] ==passw:\n",
    "        print(f\"Hello, {name}! The password is : {passw}\")\n",
    "        break\n",
    "    else:\n",
    "        print(\"Nocmal versuchen\")\n",
    "        break"
   ]
  },
  {
   "cell_type": "markdown",
   "metadata": {},
   "source": [
    "Task:\n",
    "Find out if a given number is an \"Armstrong Number\".\n",
    "\n",
    "An n-digit number that is the sum of the nth powers of its digits is called an n-Armstrong number. Examples :\n",
    "371 = 33 + 73 + 13;\n",
    "9474 = 94 + 44 + 74 + 44;\n",
    "93084 = 95 + 35 + 05 + 85 + 45.\n",
    "\n",
    "Write a Python program that;\n",
    "\n",
    "\n",
    "takes a positive integer number from the user,\n",
    "\n",
    "checks the entered number if it is Armstrong,\n",
    "\n",
    "consider the negative, float and any entries other than numeric\n",
    " values then display a warning message to the user."
   ]
  },
  {
   "cell_type": "code",
   "execution_count": 13,
   "metadata": {},
   "outputs": [
    {
     "name": "stdout",
     "output_type": "stream",
     "text": [
      "9474 ist eine Amstrongzahle\n"
     ]
    }
   ],
   "source": [
    "while True:\n",
    "    numb = input(\"bitte ein Zahl eingegeben\")\n",
    "    numb_list = list(numb)\n",
    "    for i in numb_list:\n",
    "        if i ==\"-\" or i == \".\":\n",
    "            print(\"Bitte nur ein Positive und Integer Zahl eingegeben\")\n",
    "    break\n",
    "summe =0\n",
    "for i in numb_list:\n",
    "        summe  += int(i)**len(numb_list)\n",
    "if summe ==int(numb):\n",
    "    print(f\"{numb} ist eine Amstrongzahle\")\n",
    "else:\n",
    "    print(f\"{numb} ist keine Amstrongzahle\")\n"
   ]
  },
  {
   "cell_type": "markdown",
   "metadata": {},
   "source": [
    "\n",
    "Task : Write a program that takes a number from the user and prints the result to check if it is a prime number.\n",
    "\n",
    "The examples of the desired output are as follows :\n",
    "input →  19 ⇉ output : 19 is a prime number\n",
    "input →  10 ⇉ output : 10 is not a prime number\n",
    "\n",
    "\n",
    "Note that : This question is famous on the web, so to get more benefit from this assignment, try to complete this task on your own. (bearbeitet) "
   ]
  },
  {
   "cell_type": "code",
   "execution_count": 24,
   "metadata": {},
   "outputs": [
    {
     "name": "stdout",
     "output_type": "stream",
     "text": [
      "4 ist keine Primezahl\n",
      "4 ist eine Primezahl\n"
     ]
    }
   ],
   "source": [
    "number = int(input(\"Bitte eine positive Zahl eingegeben :\"))\n",
    "\n",
    "for i in range(2, number):\n",
    "    if number % i == 0:\n",
    "        print(f\"{number} ist keine Primezahl\")\n",
    "    elif number % i !=0 or number > 2:\n",
    "        print(f\"{number} ist eine Primezahl\")\n",
    "\n"
   ]
  },
  {
   "cell_type": "code",
   "execution_count": null,
   "metadata": {},
   "outputs": [],
   "source": [
    "number_asked = int(input(\"Please enter a positive number :\"))\n",
    "\n",
    "if number_asked == 1:\n",
    "    print(f\"{number_asked} is not a prime number\")\n",
    "elif number_asked == 2:\n",
    "    print(f\"{number_asked} is a prime number\")\n",
    "for i in range(2, number_asked):\n",
    "    if number_asked % i == 0:\n",
    "        print(f\"{number_asked} is not a prime number\")\n",
    "        break\n",
    "\n",
    "if number_asked % i != 0 and number_asked > 2:\n",
    "    print(f\"{number_asked} is a prime number\")\n"
   ]
  },
  {
   "cell_type": "code",
   "execution_count": 53,
   "metadata": {},
   "outputs": [
    {
     "name": "stdout",
     "output_type": "stream",
     "text": [
      "11 ist eine Primezahl\n",
      "11 ist eine Primezahl\n",
      "11 ist eine Primezahl\n",
      "11 ist eine Primezahl\n",
      "11 ist eine Primezahl\n",
      "11 ist eine Primezahl\n",
      "11 ist eine Primezahl\n",
      "11 ist eine Primezahl\n",
      "11 ist eine Primezahl\n"
     ]
    }
   ],
   "source": [
    "\n",
    "number = int(input(\"Bitte ein Zahl eingegeben\"))\n",
    "if(number > 1):\n",
    "    for i in range(2, number):\n",
    "        if (number % i == 0):\n",
    "            print(f\"{number} ist keine Primezahl\")\n",
    "\n",
    "            print(f\"{number} ist eine Primezahl\")\n",
    "            \n",
    "elif number < 0 or number == 1:\n",
    "    print(f\"{number} ist keine Primezahl\")\n",
    "    \n"
   ]
  },
  {
   "cell_type": "code",
   "execution_count": 83,
   "metadata": {},
   "outputs": [
    {
     "name": "stdout",
     "output_type": "stream",
     "text": [
      "21 ist keine Primezahl\n",
      "21 ist eine Primezahl\n"
     ]
    }
   ],
   "source": [
    "number = int(input(\"Bitte ein Zahl eingegeben:\"))\n",
    "if number > 1:\n",
    "    for i in range(2, number):\n",
    "        if (number % i) == 0:\n",
    "            print(number, \"ist keine Primezahl\")\n",
    "            break\n",
    "        \n",
    "    print(number, \"ist eine Primezahl\")\n",
    "\n",
    "else:  \n",
    "    print(number, \"ist  keine Primezahl\")\n"
   ]
  },
  {
   "cell_type": "code",
   "execution_count": 101,
   "metadata": {},
   "outputs": [
    {
     "name": "stdout",
     "output_type": "stream",
     "text": [
      "21 is not a prime number\n"
     ]
    }
   ],
   "source": [
    "number = int(input(\"Enter any number: \"))\n",
    "\n",
    "\n",
    "if number > 1:\n",
    "    for i in range(2, number):\n",
    "        if (number % i) == 0:\n",
    "            print(number, \"is not a prime number\")\n",
    "            break\n",
    "    else:\n",
    "        print(number, \"is a prime number\")\n",
    "else:\n",
    "    print(number, \"is not a prime number\")\n"
   ]
  },
  {
   "cell_type": "code",
   "execution_count": 105,
   "metadata": {},
   "outputs": [
    {
     "name": "stdout",
     "output_type": "stream",
     "text": [
      "['elma', 'armut']\n",
      "['el', 'ma', 'ar', 'mut']\n",
      "['ar', 'el', 'ma', 'mut']\n"
     ]
    },
    {
     "data": {
      "text/plain": [
       "'ar+el+ma+mut'"
      ]
     },
     "execution_count": 105,
     "metadata": {},
     "output_type": "execute_result"
    }
   ],
   "source": [
    "liste = input(\"bitte ein obst list eingeben\").split()\n",
    "print(liste)\n",
    "chunk = []\n",
    "\n",
    "for i in range(0, len((liste))):\n",
    "    liste2 = list(j)\n",
    "\n",
    "    if len(liste2) % 2 == 0:\n",
    "        liste3 = liste2[0:int(len(liste2)/2)]\n",
    "        a = \"\".join(liste3)\n",
    "        liste4 = liste2[int(len(liste2)/2):]\n",
    "        b = \"\".join(liste4)\n",
    "        chunk.append(a)\n",
    "        chunk.append(b)\n",
    "        liste3 = []\n",
    "        liste4 = []\n",
    "        liste2 = []\n",
    "\n",
    "    else:\n",
    "        liste3 = liste2[0:int(len(liste2)/2)]\n",
    "        a = \"\".join(liste3)\n",
    "        liste4 = liste2[int(len(liste2)/2):]\n",
    "        b = \"\".join(liste4)\n",
    "        chunk.append(a)\n",
    "        chunk.append(b)\n",
    "        liste3 = []\n",
    "        liste4 = []\n",
    "        liste2 = []\n",
    "\n",
    "print (chunk)\n",
    "chunk.sort()\n",
    "print (chunk)\n",
    "\"+\".join(chunk)\n"
   ]
  },
  {
   "cell_type": "code",
   "execution_count": 108,
   "metadata": {},
   "outputs": [
    {
     "name": "stdout",
     "output_type": "stream",
     "text": [
      "elma\n"
     ]
    }
   ],
   "source": []
  }
 ],
 "metadata": {
  "interpreter": {
   "hash": "a568b988ef59356f541e1651d71651afaaa30954598b2be60c6c7b4eea9fbfac"
  },
  "kernelspec": {
   "display_name": "Python 3.10.0 64-bit",
   "language": "python",
   "name": "python3"
  },
  "language_info": {
   "codemirror_mode": {
    "name": "ipython",
    "version": 3
   },
   "file_extension": ".py",
   "mimetype": "text/x-python",
   "name": "python",
   "nbconvert_exporter": "python",
   "pygments_lexer": "ipython3",
   "version": "3.10.0"
  },
  "orig_nbformat": 4
 },
 "nbformat": 4,
 "nbformat_minor": 2
}
