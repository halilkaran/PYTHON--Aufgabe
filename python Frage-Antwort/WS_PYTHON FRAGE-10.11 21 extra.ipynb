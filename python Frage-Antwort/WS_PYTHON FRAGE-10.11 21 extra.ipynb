{
  "cells": [
    {
      "cell_type": "markdown",
      "metadata": {
        "id": "QlBsRwyPxMmg"
      },
      "source": [
        "**split()**"
      ]
    },
    {
      "cell_type": "code",
      "execution_count": 2,
      "metadata": {
        "id": "gj-K91BAxCe0"
      },
      "outputs": [],
      "source": [
        "text = \"Hello dear friends\"\n",
        "# bu çıktıyı elde edin ['Hello', ' dear', ' friends']"
      ]
    },
    {
      "cell_type": "code",
      "execution_count": 3,
      "metadata": {},
      "outputs": [
        {
          "data": {
            "text/plain": [
              "['Hello', 'dear', 'friends']"
            ]
          },
          "execution_count": 3,
          "metadata": {},
          "output_type": "execute_result"
        }
      ],
      "source": [
        "text.split()"
      ]
    },
    {
      "cell_type": "code",
      "execution_count": 6,
      "metadata": {
        "id": "NcjUHWpvxZf0"
      },
      "outputs": [],
      "source": [
        "countries = \"Türkiye, Singapur, Malezya, Lübnan, Kanada, Portekiz, Japonya\"\n",
        "# output = ['Türkiye', ' Singapur', ' Malezya, Lübnan, Kanada, Portekiz, Japonya']"
      ]
    },
    {
      "cell_type": "code",
      "execution_count": 75,
      "metadata": {},
      "outputs": [
        {
          "name": "stdout",
          "output_type": "stream",
          "text": [
            "[' Malezya', ' Lübnan', ' Kanada', ' Portekiz', ' Japonya']\n",
            " Malezya, Lübnan, Kanada, Portekiz, Japonya\n"
          ]
        },
        {
          "data": {
            "text/plain": [
              "['Türkiye', ' Singapur', ' Malezya, Lübnan, Kanada, Portekiz, Japonya']"
            ]
          },
          "execution_count": 75,
          "metadata": {},
          "output_type": "execute_result"
        }
      ],
      "source": [
        "text=countries.split(',')\n",
        "A=text[2:]\n",
        "print(A)\n",
        "B= \",\".join(A)\n",
        "print(B)\n",
        "text1= text[:2] \n",
        "text1.append(B)\n",
        "text1"
      ]
    },
    {
      "cell_type": "code",
      "execution_count": 42,
      "metadata": {
        "id": "8_uj-hFD63pt"
      },
      "outputs": [],
      "source": [
        "# cümledeki en kısa kelime nedir ve kaç karakterden oluşuyor.\n",
        "text = \" soru cozumuyle kodlama becerim gelisiyor.\""
      ]
    },
    {
      "cell_type": "code",
      "execution_count": 43,
      "metadata": {},
      "outputs": [
        {
          "name": "stdout",
          "output_type": "stream",
          "text": [
            "cümledeki en kisa kelime soru ve 4 karakterden olusuyor.\n"
          ]
        }
      ],
      "source": [
        "text= text.split()\n",
        "a= min(text, key=len)\n",
        "print(\"cümledeki en kisa kelime\", a, \"ve\", len(a), \"karakterden olusuyor.\")\n",
        "\n"
      ]
    },
    {
      "cell_type": "markdown",
      "metadata": {
        "id": "_8SwX2LFxizj"
      },
      "source": [
        "**map()**"
      ]
    },
    {
      "cell_type": "code",
      "execution_count": 51,
      "metadata": {
        "id": "mEpDElb2xdnK"
      },
      "outputs": [
        {
          "data": {
            "text/plain": [
              "[1.0, 2.0, 3.0, 4.0, 5.0]"
            ]
          },
          "execution_count": 51,
          "metadata": {},
          "output_type": "execute_result"
        }
      ],
      "source": [
        "list1 = [1,2,3,4,5]\n",
        "# output= [1.0, 2.0, 3.0, 4.0, 5.0]\n",
        "\n",
        "list2 = []\n",
        "for i in range(0,len(list1)):\n",
        "    list2.append(float(list1[i]))\n",
        "\n",
        "list2\n"
      ]
    },
    {
      "cell_type": "code",
      "execution_count": 68,
      "metadata": {},
      "outputs": [
        {
          "data": {
            "text/plain": [
              "[1, 4, 9, 16, 25]"
            ]
          },
          "execution_count": 68,
          "metadata": {},
          "output_type": "execute_result"
        }
      ],
      "source": [
        "list1 = [1, 2, 3, 4, 5]\n",
        "# output= [1.0, 2.0, 3.0, 4.0, 5.0]\n",
        "\n",
        "list(map(lambda x: float(x), list1))\n",
        "\n",
        "\n"
      ]
    },
    {
      "cell_type": "markdown",
      "metadata": {
        "id": "mrkiXchaxxrY"
      },
      "source": [
        "**zip()**\n"
      ]
    },
    {
      "cell_type": "code",
      "execution_count": 1,
      "metadata": {
        "id": "tu70MTT5x1UY"
      },
      "outputs": [
        {
          "name": "stdout",
          "output_type": "stream",
          "text": [
            "{1: 'a', 2: 'b', 3: 'c', 4: 'd', 5: 'e'}\n",
            "[(1, 'a'), (2, 'b'), (3, 'c'), (4, 'd'), (5, 'e')]\n"
          ]
        }
      ],
      "source": [
        "list1 = [1,2,3,4,5]\n",
        "list2 = [\"a\",\"b\",\"c\",\"d\",\"e\"]\n",
        "print(dict(zip(list1,list2)))\n",
        "print(list(zip(list1, list2)))\n",
        "\n",
        "# {1: 'a', 2: 'b', 3: 'c', 4: 'd', 5: 'e'}\n",
        "# [(1, 'a'), (2, 'b'), (3, 'c'), (4, 'd'), (5, 'e')]\n"
      ]
    },
    {
      "cell_type": "markdown",
      "metadata": {
        "id": "xF5bxcFhyJ1p"
      },
      "source": [
        "Q-1) Verilen listeden {id:name} olacak şekilde dict oluşturunuz.\n",
        "\n",
        "*   test_list = [\"Ali\", 1, \"Veli\", 2, \"Osman\", 3, \"Ahmet\", 4] \n",
        "*   output : {1: 'Ali', 2: 'Veli', 3: 'Osman', 4: 'Ahmet'}\n",
        "\n"
      ]
    },
    {
      "cell_type": "code",
      "execution_count": null,
      "metadata": {
        "id": "DVaYG2DmyAog"
      },
      "outputs": [],
      "source": []
    },
    {
      "cell_type": "markdown",
      "metadata": {
        "id": "1UPB43Qay35F"
      },
      "source": [
        "Q-2) Kullanıcıdan alınan 5 sayı içerisinden en büyük 2. sayıyı bulan kodu yazınız.\n",
        "\n",
        "*   map() ve split() kullanalım.\n"
      ]
    },
    {
      "cell_type": "code",
      "execution_count": 2,
      "metadata": {
        "id": "xc9NPumvzQzi"
      },
      "outputs": [
        {
          "name": "stdout",
          "output_type": "stream",
          "text": [
            "4\n"
          ]
        }
      ],
      "source": [
        "list1=[]\n",
        "for i in range(0,5):\n",
        "    list1.append(int(input(\" 5 sayi gir\")))\n",
        "list1.sort()\n",
        "print(list1[-2])\n",
        "\n"
      ]
    },
    {
      "cell_type": "code",
      "execution_count": 122,
      "metadata": {},
      "outputs": [
        {
          "data": {
            "text/plain": [
              "<map at 0x1e2a773f250>"
            ]
          },
          "execution_count": 122,
          "metadata": {},
          "output_type": "execute_result"
        }
      ],
      "source": [
        "\n",
        "def hesapla(list1):\n",
        "    list1 = []\n",
        "    for i in range(0, 5):\n",
        "\n",
        "    \n",
        "        list1.append(int(input(\" 5 sayi gir\")))\n",
        "    list1.sort()\n",
        "    return list1[-2]\n",
        "\n",
        "map(hesapla, list1)\n",
        "\n"
      ]
    },
    {
      "cell_type": "code",
      "execution_count": 3,
      "metadata": {},
      "outputs": [
        {
          "name": "stdout",
          "output_type": "stream",
          "text": [
            "4\n"
          ]
        }
      ],
      "source": [
        "list1=[]\n",
        "for i in range(0,5):\n",
        "    list1.append(input(\" sayi gir\"))\n",
        "map(lambda x: int(x), list1)\n",
        "list1.sort()\n",
        "print(list1[-2])\n"
      ]
    },
    {
      "cell_type": "markdown",
      "metadata": {
        "id": "IJQFhpuwzm3n"
      },
      "source": [
        "Q-4) Kullanıcıdan alınan sayının negatif veya pozitif olduğunu bulan kodu yazınız."
      ]
    },
    {
      "cell_type": "code",
      "execution_count": 4,
      "metadata": {
        "id": "7cUgc7Qrz5gz"
      },
      "outputs": [
        {
          "name": "stdout",
          "output_type": "stream",
          "text": [
            "negatif\n"
          ]
        }
      ],
      "source": [
        "a= int(input(\"bir sayi gir\"))\n",
        "if a>0:\n",
        "    print(\"pozitif\")\n",
        "elif a==0:\n",
        "    print(\"notr\")\n",
        "else:\n",
        "    print(\"negatif\")\n"
      ]
    },
    {
      "cell_type": "markdown",
      "metadata": {
        "id": "FXi2yqRR0T8C"
      },
      "source": [
        "Q-6) E-mail ve parola bilgileri ile giriş kontrolü yapan programı yazınız.\n",
        "\n",
        "\n",
        "*   email = 'D999@clarusway.com'\n",
        "*   pswrd = 'd999'\n",
        "\n"
      ]
    },
    {
      "cell_type": "code",
      "execution_count": 132,
      "metadata": {
        "id": "7aGnPRJ40sVD"
      },
      "outputs": [
        {
          "data": {
            "text/plain": [
              "'clarusway.com'"
            ]
          },
          "execution_count": 132,
          "metadata": {},
          "output_type": "execute_result"
        }
      ],
      "source": [
        "mail = \"mailto: Clarusway admission@clarusway.com, 6 Haz 2021 Paz, 21:08 tarihinde şunu yazdı:\"\n",
        "a=mail.index(\"@\")\n",
        "b= mail.index(\".com\")\n",
        "mail[a+1:b+4]\n"
      ]
    },
    {
      "cell_type": "code",
      "execution_count": 152,
      "metadata": {},
      "outputs": [
        {
          "data": {
            "text/plain": [
              "True"
            ]
          },
          "execution_count": 152,
          "metadata": {},
          "output_type": "execute_result"
        }
      ],
      "source": [
        "left  = set(\" q, w, e, r, t, a, s, d, f, g, z, x, c, v, b\")\n",
        "right = set(\"y, u, i, o, p, h, j, k, l, n, m\")\n",
        "word= set(input(\"kelime gir\").lower())\n",
        "bool(word.intersection(left)) and bool(word.intersection(right))"
      ]
    },
    {
      "cell_type": "code",
      "execution_count": 170,
      "metadata": {},
      "outputs": [
        {
          "name": "stdout",
          "output_type": "stream",
          "text": [
            "0\n"
          ]
        }
      ],
      "source": [
        "\n",
        "list1=[]\n",
        "sum1= 0\n",
        "for i in range(0,3):\n",
        "    list1.append(int(input(\"sayigir\")))\n",
        "    sum1 = sum1 + list1[i]\n",
        "\n",
        "set1 = set(list1)\n",
        "if len(set1) != 3 :\n",
        "    print(0)\n",
        "else: print(sum1)\n",
        "\n",
        "\n"
      ]
    },
    {
      "cell_type": "code",
      "execution_count": 184,
      "metadata": {},
      "outputs": [
        {
          "name": "stdout",
          "output_type": "stream",
          "text": [
            "\n"
          ]
        }
      ],
      "source": [
        "text = input(\"give me word \")\n",
        "text.split()\n",
        "if len(text)>2:\n",
        "    text_new = text[:2] + text[-2:]\n",
        "    text_new.split()\n",
        "    print(list(text_new))\n",
        "else:\n",
        "    print(\"\")\n"
      ]
    },
    {
      "cell_type": "code",
      "execution_count": 1,
      "metadata": {},
      "outputs": [
        {
          "name": "stdout",
          "output_type": "stream",
          "text": [
            "13\n"
          ]
        }
      ],
      "source": [
        "print(len(set('listen to the voice of enlisted')))\n"
      ]
    },
    {
      "cell_type": "code",
      "execution_count": 2,
      "metadata": {},
      "outputs": [
        {
          "name": "stdout",
          "output_type": "stream",
          "text": [
            "25\n"
          ]
        }
      ],
      "source": [
        "numbers = {}\n",
        "\n",
        "numbers['x'] = 12\n",
        "numbers['y'] = 4\n",
        "numbers.update({'z': 3})\n",
        "\n",
        "print(numbers['x'] + numbers['y'] + numbers['z']**2)\n"
      ]
    },
    {
      "cell_type": "code",
      "execution_count": null,
      "metadata": {},
      "outputs": [],
      "source": []
    }
  ],
  "metadata": {
    "colab": {
      "collapsed_sections": [],
      "name": "WS-2.ipynb",
      "provenance": []
    },
    "interpreter": {
      "hash": "a568b988ef59356f541e1651d71651afaaa30954598b2be60c6c7b4eea9fbfac"
    },
    "kernelspec": {
      "display_name": "Python 3.10.0 64-bit",
      "name": "python3"
    },
    "language_info": {
      "codemirror_mode": {
        "name": "ipython",
        "version": 3
      },
      "file_extension": ".py",
      "mimetype": "text/x-python",
      "name": "python",
      "nbconvert_exporter": "python",
      "pygments_lexer": "ipython3",
      "version": "3.10.0"
    }
  },
  "nbformat": 4,
  "nbformat_minor": 0
}
