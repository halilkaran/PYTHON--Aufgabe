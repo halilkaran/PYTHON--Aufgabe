{
 "cells": [
  {
   "cell_type": "markdown",
   "metadata": {},
   "source": [
    "Question 5\n",
    "Fruit salads are served best when the fruits are sliced and diced into small chunks!\n",
    "For this challenge, slice each fruit in half and sort the chunks alphabetically. This recipe tastes best when the chunks are joined together to make a string.\n",
    "Worked Example\n",
    "[\"apple\", \"pear\", \"grapes\"] ➞ \"apargrapepesple\"\n",
    "Chunks: [\"ap\", \"ple\", \"pe\", \"ar\", \"gra\", \"pes\"]\n",
    "Sorted chunks: [\"ap\", \"ar\", \"gra\", \"pe\", \"pes\", \"ple\"]\n",
    "Final string: \"apargrapepesple\"\n",
    "Examples\n",
    "[\"apple\", \"pear\", \"grapes\"] ➞ \"apargrapepesple\"\n",
    "[\"raspberries\", \"mango\"] ➞ \"erriesmangoraspb\"\n",
    "[\"banana\"] ➞ \"anaban\"\n",
    "Notes\n",
    "If a fruit has an odd number of letters, make the right side larger than the left.\n",
    "For example: \"apple\" will be sliced into \"ap\" and \"ple\".\n",
    "All fruits will be given in lowercase."
   ]
  },
  {
   "cell_type": "code",
   "execution_count": 14,
   "metadata": {},
   "outputs": [
    {
     "data": {
      "text/plain": [
       "'ayelkanma'"
      ]
     },
     "execution_count": 14,
     "metadata": {},
     "output_type": "execute_result"
    }
   ],
   "source": [
    "liste= input(\"bitte ein obst list eingeben\").split()\n",
    "chunk = []\n",
    "for i in range(0,len((liste))):\n",
    "    liste2 =list( liste[i])\n",
    "    if  len(liste2) % 2 ==0:\n",
    "        liste3 = liste2[0:int(len(liste2)/2)]\n",
    "        a=\"\".join(liste3)\n",
    "        liste4 = liste2[int(len(liste2)/2):]\n",
    "        b= \"\".join(liste4)\n",
    "        chunk.append(a)\n",
    "        chunk.append(b)\n",
    "        liste3=[]\n",
    "        liste4=[]\n",
    "        liste2=[]\n",
    "\n",
    "    else:\n",
    "        liste3 = liste2[0:int(len(liste2)/2)]\n",
    "        a=\"\".join(liste3)\n",
    "        liste4 = liste2[int(len(liste2)/2):]\n",
    "        b= \"\".join(liste4)\n",
    "        chunk.append(a)\n",
    "        chunk.append(b)\n",
    "        liste3=[]\n",
    "        liste4=[]\n",
    "        liste2=[]\n",
    "\n",
    "\n",
    "chunk.sort()\n",
    "\"\".join(chunk)\n",
    "\n"
   ]
  },
  {
   "cell_type": "code",
   "execution_count": 2,
   "metadata": {},
   "outputs": [
    {
     "data": {
      "text/plain": [
       "['elma', 'armut']"
      ]
     },
     "execution_count": 2,
     "metadata": {},
     "output_type": "execute_result"
    }
   ],
   "source": [
    "liste"
   ]
  },
  {
   "cell_type": "code",
   "execution_count": 9,
   "metadata": {},
   "outputs": [
    {
     "data": {
      "text/plain": [
       "['e', 'l']"
      ]
     },
     "execution_count": 9,
     "metadata": {},
     "output_type": "execute_result"
    }
   ],
   "source": [
    "\n",
    "liste2 = list(liste[0])\n",
    "a = int(len(liste2)/2)\n",
    "liste3 = liste2[0:a]\n",
    "liste3"
   ]
  },
  {
   "cell_type": "code",
   "execution_count": null,
   "metadata": {},
   "outputs": [],
   "source": []
  }
 ],
 "metadata": {
  "interpreter": {
   "hash": "a568b988ef59356f541e1651d71651afaaa30954598b2be60c6c7b4eea9fbfac"
  },
  "kernelspec": {
   "display_name": "Python 3.10.0 64-bit",
   "language": "python",
   "name": "python3"
  },
  "language_info": {
   "codemirror_mode": {
    "name": "ipython",
    "version": 3
   },
   "file_extension": ".py",
   "mimetype": "text/x-python",
   "name": "python",
   "nbconvert_exporter": "python",
   "pygments_lexer": "ipython3",
   "version": "3.10.0"
  },
  "orig_nbformat": 4
 },
 "nbformat": 4,
 "nbformat_minor": 2
}
