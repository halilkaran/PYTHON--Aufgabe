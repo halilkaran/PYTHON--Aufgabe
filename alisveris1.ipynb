{
 "cells": [
  {
   "cell_type": "code",
   "execution_count": 1,
   "metadata": {},
   "outputs": [
    {
     "name": "stdout",
     "output_type": "stream",
     "text": [
      "1 ailenin ekmegi  13  gunde biter 2 kere alisverise gider.     \n",
      "2 ailenin ekmegi 11 gunde biter.   4 kere alisverise gider.  \n",
      "3 ailenin ekmegi 9  gunde biter.  2  kere gider\n"
     ]
    }
   ],
   "source": [
    "siklik_1 = int(input(\"1. ailenin alisverise girme sikligini gir\"))\n",
    "cocuk_1 = int(input(\" 1. ailenin cocuk sayisini gir\"))\n",
    "paket_1 = int(input(\"1. ailenin alinan ekmek paket sayisi\"))\n",
    "siklik_2 = int(input(\"2. ailenin alisverise girme sikligini gir\"))\n",
    "cocuk_2 = int(input(\"2. ailenin cocuk sayisini gir\"))\n",
    "paket_2 = int(input(\"2. ailenin alinan ekmek paket sayisi\"))\n",
    "siklik_3 = int(input(\"3. ailenin alisverise girme sikligini gir\"))\n",
    "cocuk_3 = int(input(\"3. ailenin cocuk sayisini gir\"))\n",
    "paket_3 = int(input(\"3. ailenin alinan ekmek paket sayisi\"))\n",
    "depo = 60\n",
    "gun_1 = 0\n",
    "gun_2 = 0\n",
    "gun_3 = 0\n",
    "gun_11 = 0\n",
    "gun_22 = 0\n",
    "gun_33 = 0\n",
    "top_yenen_1 = 18+cocuk_1*4\n",
    "depo_1 = depo + paket_1*6\n",
    "top_yenen_2 = 18+cocuk_2*4\n",
    "depo_2 = depo + paket_2*6\n",
    "top_yenen_3 = 18+cocuk_3*4\n",
    "depo_3 = depo + paket_3*6\n",
    "\n",
    "while depo_1 >= 0:\n",
    "    depo_1 = depo_1 - top_yenen_1\n",
    "    gun_1 += 1\n",
    "    gun_11 = gun_1 % siklik_1\n",
    "\n",
    "    if gun_11 <= 0:\n",
    "        depo_1 = depo_1 + paket_1*6\n",
    "while depo_2 >= 0:\n",
    "    depo_2 = depo_2 - top_yenen_2\n",
    "    gun_2 += 1\n",
    "    gun_22 = gun_2 % siklik_2\n",
    "\n",
    "    if gun_22 <= 0:\n",
    "        depo_2 = depo_2 + paket_2*6\n",
    "\n",
    "\n",
    "while depo_3 >= 0:\n",
    "    depo_3 = depo_3 - top_yenen_3\n",
    "    gun_3 += 1\n",
    "    gun_33 = gun_3 % siklik_3\n",
    "\n",
    "    if gun_33 <= 0:\n",
    "        depo_3 = depo_3 + paket_3*6\n",
    "\n",
    "\n",
    "print(\"1 ailenin ekmegi \",  gun_1, \" gunde biter\", int(gun_1/siklik_1)+1, \"kere alisverise gider.   \", \" \\n2 ailenin ekmegi\", gun_2, \"gunde biter.  \",\n",
    "      int(gun_2/siklik_2)+1, \"kere alisverise gider.\", \" \\n3 ailenin ekmegi\", gun_3, \" gunde biter. \", int(gun_3/siklik_3)+1, \" kere gider\")\n"
   ]
  },
  {
   "cell_type": "code",
   "execution_count": null,
   "metadata": {},
   "outputs": [],
   "source": []
  }
 ],
 "metadata": {
  "interpreter": {
   "hash": "a568b988ef59356f541e1651d71651afaaa30954598b2be60c6c7b4eea9fbfac"
  },
  "kernelspec": {
   "display_name": "Python 3.10.0 64-bit",
   "name": "python3"
  },
  "language_info": {
   "codemirror_mode": {
    "name": "ipython",
    "version": 3
   },
   "file_extension": ".py",
   "mimetype": "text/x-python",
   "name": "python",
   "nbconvert_exporter": "python",
   "pygments_lexer": "ipython3",
   "version": "3.10.0"
  },
  "orig_nbformat": 4
 },
 "nbformat": 4,
 "nbformat_minor": 2
}
