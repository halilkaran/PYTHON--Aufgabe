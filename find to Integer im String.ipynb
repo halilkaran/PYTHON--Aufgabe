{
 "cells": [
  {
   "cell_type": "code",
   "execution_count": 16,
   "metadata": {},
   "outputs": [
    {
     "name": "stdout",
     "output_type": "stream",
     "text": [
      "\n",
      "\n",
      "50000\n",
      "\n",
      "299\n",
      "\n",
      "33\n",
      "\n",
      "3\n",
      "\n"
     ]
    }
   ],
   "source": [
    "text = \"ali 50000  299 a33e 3ee veli\"\n",
    "liste1 = list(text)\n",
    "for x in range(0, len(liste1)):\n",
    "    if ord(liste1[x])!=32:            # BOSLUK KONTROLU\n",
    "        if 47<ord(liste1[x]) <58:   # 0-9 ARASI ASCII KODU\n",
    "            print(liste1[x], end=\"\")      # EGER SAYI ISE YAZDIR AMA ALT SATIRA GECME\n",
    "\n",
    "    elif ord(liste1[x]) == 32 and ord(liste1[x+1])==32:\n",
    "\n",
    "        print(\"\", end=\"\")                          # 2 kere BOSLUK OLDUGUNDA ALT SATIRA GECMEmeK ICIN\n",
    "    elif ord(liste1[x]) == 32:\n",
    "        print(\"\\n\")             # 2 kere BOSLUK OLDUGUNDA ALT SATIRA GECMEmeK ICIN\n"
   ]
  },
  {
   "cell_type": "code",
   "execution_count": 7,
   "metadata": {},
   "outputs": [
    {
     "data": {
      "text/plain": [
       "32"
      ]
     },
     "execution_count": 7,
     "metadata": {},
     "output_type": "execute_result"
    }
   ],
   "source": [
    "ord(\" \")"
   ]
  },
  {
   "cell_type": "code",
   "execution_count": null,
   "metadata": {},
   "outputs": [],
   "source": [
    "text = \"ali 50  299 a33e 3ee veli\"\n",
    "liste1 = text.split()\n",
    "for x in range(0, len(liste1)):\n",
    "    for i in range(0, 9999):\n",
    "        if liste1[x] == str(i):\n",
    "            print(liste1[x])\n"
   ]
  },
  {
   "cell_type": "code",
   "execution_count": null,
   "metadata": {},
   "outputs": [],
   "source": [
    "text = \"ali 50 veli\"\n",
    "liste1 = list(text)\n",
    "for x in range(0, len(liste1)):\n",
    "    for i in range(0, 10):\n",
    "        if liste1[x] == str(i):\n",
    "            print(liste1[x])\n"
   ]
  }
 ],
 "metadata": {
  "interpreter": {
   "hash": "a568b988ef59356f541e1651d71651afaaa30954598b2be60c6c7b4eea9fbfac"
  },
  "kernelspec": {
   "display_name": "Python 3.10.0 64-bit",
   "language": "python",
   "name": "python3"
  },
  "language_info": {
   "codemirror_mode": {
    "name": "ipython",
    "version": 3
   },
   "file_extension": ".py",
   "mimetype": "text/x-python",
   "name": "python",
   "nbconvert_exporter": "python",
   "pygments_lexer": "ipython3",
   "version": "3.10.0"
  },
  "orig_nbformat": 4
 },
 "nbformat": 4,
 "nbformat_minor": 2
}
